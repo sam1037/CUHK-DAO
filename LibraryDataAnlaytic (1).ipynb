{
  "nbformat": 4,
  "nbformat_minor": 0,
  "metadata": {
    "colab": {
      "provenance": []
    },
    "kernelspec": {
      "name": "python3",
      "display_name": "Python 3"
    },
    "language_info": {
      "name": "python"
    }
  },
  "cells": [
    {
      "cell_type": "code",
      "source": [
        "# Copy poems\n",
        "poems = [\n",
        "    \"\"\"靜聽那烈日的蟬聲\n",
        "喝一碗涼茶\n",
        "把一個腫瘤養起來\n",
        "不戳破 不割損\n",
        "除膿 祛瘀 限增殖\n",
        "綠蔭下\n",
        "徐步 徐步\n",
        "我在靜聽烈日的\n",
        "蟬聲\"\"\",\n",
        "\n",
        "    \"\"\"水\n",
        "漫過來，悄無聲息的\n",
        "一條虛幻的蛇\n",
        "蛇信子的變異\n",
        "我不知道是不是故意\n",
        "我的偏愛是真的\n",
        "肌膚的紋理中\n",
        "游動著搖頭擺尾的魚\n",
        "神秘而不失親切\n",
        "我把刀藏了起來\n",
        "防止它失手斷了我的血液\n",
        "再把門一扇一扇封閉\n",
        "我自私，海是我\n",
        "生命的一部分\"\"\",\n",
        "\n",
        "    \"\"\"像一種儀式\n",
        "像一種儀式，眼淚\n",
        "要掉得戲作地錯過安慰　緩慢\n",
        "想起\n",
        "你說晚安的模樣\n",
        "藏匿另一種儀式關於\n",
        "告別　之所以不說再見是因為\n",
        "你只是路過我\n",
        "一如我隱晦地指涉喜歡\n",
        "也是一種儀式，比較\n",
        "輕率且認真且不被你懂\n",
        "繼續練習說愛以及想像\n",
        "你仍然將我偏愛\"\"\"\n",
        "]\n"
      ],
      "metadata": {
        "id": "F1CVb_hgds-a"
      },
      "execution_count": 15,
      "outputs": []
    },
    {
      "cell_type": "code",
      "source": [
        "# Import poem to data frame\n",
        "import pandas as pd\n",
        "df = pd.DataFrame({\"Modern Verse\": poems})\n",
        "print(df)"
      ],
      "metadata": {
        "colab": {
          "base_uri": "https://localhost:8080/"
        },
        "id": "ldXZCwV2dyd3",
        "outputId": "4b493bb7-c90f-4253-ac6a-24ea6b598004"
      },
      "execution_count": 12,
      "outputs": [
        {
          "output_type": "stream",
          "name": "stdout",
          "text": [
            "                                        Modern Verse\n",
            "0  靜聽那烈日的蟬聲\\n喝一碗涼茶\\n把一個腫瘤養起來\\n不戳破 不割損\\n除膿 祛瘀 限增殖\\...\n",
            "1  水\\n漫過來，悄無聲息的\\n一條虛幻的蛇\\n蛇信子的變異\\n我不知道是不是故意\\n我的偏愛是...\n",
            "2  像一種儀式\\n像一種儀式，眼淚\\n要掉得戲作地錯過安慰　緩慢\\n想起\\n你說晚安的模樣\\n藏...\n"
          ]
        }
      ]
    },
    {
      "cell_type": "code",
      "source": [
        "# Output the dataframe to csv file\n",
        "df.to_csv(\"Modern verse.csv\", index=False, encoding=\"utf-8-sig\")"
      ],
      "metadata": {
        "id": "FqzH5dt8d_ya"
      },
      "execution_count": 11,
      "outputs": []
    },
    {
      "cell_type": "code",
      "source": [
        "# Word Frequency Analysis\n",
        "from collections import Counter\n",
        "import jieba\n",
        "words = []\n",
        "for poem in df[\"Modern Verse\"]:\n",
        "    words.extend(jieba.lcut(poem))\n",
        "word_freq = Counter(words)\n",
        "print(word_freq.most_common(10))"
      ],
      "metadata": {
        "colab": {
          "base_uri": "https://localhost:8080/"
        },
        "id": "lDv0tWT_eVFP",
        "outputId": "8dff036e-6dce-4ba9-c787-49566b579499"
      },
      "execution_count": 14,
      "outputs": [
        {
          "output_type": "stream",
          "name": "stdout",
          "text": [
            "[('\\n', 33), ('的', 10), ('我', 9), ('不', 4), (' ', 4), ('，', 4), ('一種', 4), ('你', 4), ('儀式', 3), ('說', 3)]\n"
          ]
        }
      ]
    },
    {
      "cell_type": "code",
      "source": [
        "# Sentiment Analysis 情感分析 （1: +ve, 0: -ve)\n",
        "!pip install snownlp\n",
        "from snownlp import SnowNLP\n",
        "\n",
        "df[\"sentiment score\"] = df[\"Modern Verse\"].apply(lambda x: SnowNLP(x).sentiments)\n",
        "\n",
        "print(df)"
      ],
      "metadata": {
        "colab": {
          "base_uri": "https://localhost:8080/"
        },
        "id": "na1wIavleaTc",
        "outputId": "d5e534f9-3ca9-4cdf-c943-ba4df8332f41"
      },
      "execution_count": 16,
      "outputs": [
        {
          "output_type": "stream",
          "name": "stdout",
          "text": [
            "Requirement already satisfied: snownlp in /usr/local/lib/python3.10/dist-packages (0.12.3)\n",
            "                                        Modern Verse  sentiment score\n",
            "0  靜聽那烈日的蟬聲\\n喝一碗涼茶\\n把一個腫瘤養起來\\n不戳破 不割損\\n除膿 祛瘀 限增殖\\...         0.002176\n",
            "1  水\\n漫過來，悄無聲息的\\n一條虛幻的蛇\\n蛇信子的變異\\n我不知道是不是故意\\n我的偏愛是...         0.178908\n",
            "2  像一種儀式\\n像一種儀式，眼淚\\n要掉得戲作地錯過安慰　緩慢\\n想起\\n你說晚安的模樣\\n藏...         0.002112\n"
          ]
        }
      ]
    }
  ]
}